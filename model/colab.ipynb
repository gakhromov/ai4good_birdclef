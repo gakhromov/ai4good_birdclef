{
  "cells": [
    {
      "cell_type": "markdown",
      "metadata": {
        "id": "XG8NdHyq1ldF"
      },
      "source": [
        "##Imports"
      ]
    },
    {
      "cell_type": "code",
      "execution_count": null,
      "metadata": {
        "id": "BuBm2oApQ9SP"
      },
      "outputs": [],
      "source": [
        "%load_ext autoreload\n",
        "%autoreload 2"
      ]
    },
    {
      "cell_type": "code",
      "execution_count": null,
      "metadata": {
        "colab": {
          "base_uri": "https://localhost:8080/"
        },
        "id": "0SQjbZJ81ldH",
        "outputId": "14d6f708-f464-457b-b222-f87ce626e328"
      },
      "outputs": [],
      "source": [
        "from google.colab import drive\n",
        "drive.mount('/content/drive')\n",
        "import librosa\n",
        "import librosa.display\n",
        "import numpy as np\n",
        "import matplotlib.pyplot as plt\n",
        "import gc\n",
        "from tqdm import tqdm\n",
        "from IPython.display import Audio\n",
        "!pip install -qq noisereduce\n",
        "import noisereduce as nr\n",
        "import os\n",
        "\n",
        "import pandas as pd\n",
        "import random\n",
        "import IPython.display as ipd\n",
        "from sklearn.preprocessing import LabelEncoder\n",
        "from sklearn.model_selection import StratifiedKFold\n",
        "from torch.utils.data import Dataset, DataLoader\n",
        "import torch\n",
        "import torch.nn as nn\n",
        "from torch.optim import Adam\n",
        "import torch.nn.functional as F\n",
        "from torch.utils.data import Dataset, DataLoader\n",
        "from torchvision import models\n",
        "from tqdm import tqdm\n",
        "import torchaudio"
      ]
    },
    {
      "cell_type": "code",
      "execution_count": null,
      "metadata": {
        "colab": {
          "base_uri": "https://localhost:8080/"
        },
        "id": "SmMqWSUr1ldL",
        "outputId": "50768169-d545-4fc1-9faf-9dcf11a25334"
      },
      "outputs": [],
      "source": [
        "!mkdir /root/.kaggle/\n",
        "!cp /content/drive/MyDrive/kaggle.json /root/.kaggle/\n",
        "!kaggle competitions download -c birdclef-2022\n",
        "!unzip -q birdclef-2022.zip"
      ]
    },
    {
      "cell_type": "markdown",
      "metadata": {
        "id": "DjqlXZZA1nAf"
      },
      "source": [
        "## Load Data"
      ]
    },
    {
      "cell_type": "code",
      "execution_count": null,
      "metadata": {
        "id": "xOa60AuHS9Ku"
      },
      "outputs": [],
      "source": [
        "!pip install -qq wandb adamp\n",
        "import wandb"
      ]
    },
    {
      "cell_type": "code",
      "execution_count": null,
      "metadata": {
        "colab": {
          "base_uri": "https://localhost:8080/"
        },
        "id": "kyg9LyZL1oO5",
        "outputId": "db9b5267-e73d-4afc-d774-b47fcdcae189"
      },
      "outputs": [],
      "source": [
        "!rm -r ai4good_birdclef/\n",
        "!git clone --branch Mathias https://github.com/gakhromov/ai4good_birdclef.git"
      ]
    },
    {
      "cell_type": "code",
      "execution_count": null,
      "metadata": {
        "id": "C_S6uo_G22tT"
      },
      "outputs": [],
      "source": [
        "import sys\n",
        "sys.path.append('ai4good_birdclef/model')"
      ]
    },
    {
      "cell_type": "code",
      "execution_count": null,
      "metadata": {
        "id": "vRdylKNO3L03"
      },
      "outputs": [],
      "source": [
        "from models import *\n",
        "from config import config, CFG\n",
        "from dataset import get_dataset\n"
      ]
    },
    {
      "cell_type": "code",
      "execution_count": null,
      "metadata": {
        "colab": {
          "base_uri": "https://localhost:8080/"
        },
        "id": "ORdm4f45IY1d",
        "outputId": "ee9da166-ffc2-41e3-95c4-9ae2b5d60509"
      },
      "outputs": [],
      "source": [
        "!python ai4good_birdclef/model/train.py --data_path \".\" --data_folder \"train-audio\""
      ]
    },
    {
      "cell_type": "code",
      "execution_count": null,
      "metadata": {
        "id": "y8OGdG1ZS6Mj"
      },
      "outputs": [],
      "source": []
    }
  ],
  "metadata": {
    "colab": {
      "provenance": []
    },
    "kernelspec": {
      "display_name": "Python 3.10.6 ('pytorch')",
      "language": "python",
      "name": "python3"
    },
    "language_info": {
      "name": "python",
      "version": "3.10.6"
    },
    "orig_nbformat": 4,
    "vscode": {
      "interpreter": {
        "hash": "44ff33fa2e24d961b937d20c36da57d187e4b8904719489e912c1e1d5e357bbe"
      }
    }
  },
  "nbformat": 4,
  "nbformat_minor": 0
}
