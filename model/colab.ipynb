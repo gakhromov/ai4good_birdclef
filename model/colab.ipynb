{
 "cells": [
  {
   "cell_type": "markdown",
   "metadata": {},
   "source": [
    "##Imports"
   ]
  },
  {
   "cell_type": "code",
   "execution_count": null,
   "metadata": {},
   "outputs": [],
   "source": [
    "from google.colab import drive\n",
    "drive.mount('/content/drive')\n",
    "import librosa\n",
    "import librosa.display\n",
    "import numpy as np\n",
    "import matplotlib.pyplot as plt\n",
    "import gc\n",
    "from tqdm import tqdm\n",
    "from IPython.display import Audio\n",
    "!pip install -qq noisereduce\n",
    "import noisereduce as nr\n",
    "import os\n",
    "\n",
    "import pandas as pd\n",
    "import random\n",
    "import IPython.display as ipd\n",
    "from sklearn.preprocessing import LabelEncoder\n",
    "from sklearn.model_selection import StratifiedKFold\n",
    "from torch.utils.data import Dataset, DataLoader\n",
    "import torch\n",
    "import torch.nn as nn\n",
    "from torch.optim import Adam\n",
    "import torch.nn.functional as F\n",
    "from torch.utils.data import Dataset, DataLoader\n",
    "from torchvision import models\n",
    "from tqdm import tqdm\n",
    "import torchaudio"
   ]
  },
  {
   "cell_type": "code",
   "execution_count": null,
   "metadata": {},
   "outputs": [],
   "source": [
    "!mkdir /root/.kaggle/\n",
    "!cp /content/drive/MyDrive/kaggle.json /root/.kaggle/\n",
    "!kaggle competitions download -c birdclef-2022\n",
    "!unzip birdclef-2022.zip"
   ]
  }
 ],
 "metadata": {
  "kernelspec": {
   "display_name": "Python 3.10.6 ('pytorch')",
   "language": "python",
   "name": "python3"
  },
  "language_info": {
   "name": "python",
   "version": "3.10.6"
  },
  "orig_nbformat": 4,
  "vscode": {
   "interpreter": {
    "hash": "44ff33fa2e24d961b937d20c36da57d187e4b8904719489e912c1e1d5e357bbe"
   }
  }
 },
 "nbformat": 4,
 "nbformat_minor": 2
}
